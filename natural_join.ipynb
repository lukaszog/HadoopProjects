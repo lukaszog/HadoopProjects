{
 "cells": [
  {
   "cell_type": "code",
   "execution_count": 3,
   "metadata": {
    "collapsed": true
   },
   "outputs": [],
   "source": [
    "import os\n",
    "import operator\n",
    "import json\n",
    "from collections import defaultdict\n"
   ]
  },
  {
   "cell_type": "code",
   "execution_count": 21,
   "metadata": {
    "collapsed": true
   },
   "outputs": [],
   "source": [
    "def mapper():\n",
    "    datafile = \"/home/lukassz/PycharmProjects/HadoopProjects/Algebra/difference/join_data.txt\"\n",
    "    JOIN_COLUMN_INDEX = {\n",
    "    'Orders': 1,\n",
    "    'Customers': 0\n",
    "    }\n",
    "    result_dict = {}\n",
    "    with open(datafile) as f:\n",
    "        for line in f:\n",
    "            if line and line.strip():\n",
    "                words = line.split(\"\\t\")\n",
    "\n",
    "                table_name = words[0]\n",
    "                data = words[1:]\n",
    "\n",
    "                join_column_index = JOIN_COLUMN_INDEX[table_name]\n",
    "                map_key = data[join_column_index]\n",
    "                map_value = json.dumps((table_name, data[0:join_column_index] + data[join_column_index + 1:]))\n",
    "                result_dict[map_key] = map_value\n",
    "    return result_dict\n",
    "\n",
    "                "
   ]
  },
  {
   "cell_type": "code",
   "execution_count": 22,
   "metadata": {
    "collapsed": true
   },
   "outputs": [],
   "source": [
    "def reducer(key, list_of_relation_data):\n",
    "    group_by_table = defaultdict(list)\n",
    "    for d in list_of_relation_data:\n",
    "        group_by_table[d[0]].append(d[1])\n",
    "\n",
    "    if len(group_by_table) == 2:\n",
    "        keys = list(group_by_table.keys())\n",
    "        for record in group_by_table[keys[0]]:\n",
    "            for r2 in group_by_table[keys[1]]:\n",
    "                row = record + [key] + r2\n",
    "                print(\"%s\\t%s\" % (key, json.dumps(row)))\n",
    "    "
   ]
  },
  {
   "cell_type": "code",
   "execution_count": 30,
   "metadata": {},
   "outputs": [
    {
     "name": "stdout",
     "output_type": "stream",
     "text": [
      "{'1': '[\"Customers\", [\"Alfreds Futterkiste \", \"Maria Anders \", \"Germany\\\\n\"]]', '3': '[\"Customers\", [\"Antonio Moreno Taquer\\\\u00eda \", \"Antonio Moreno \", \"Mexico\\\\n\"]]', '2': '[\"Customers\", [\"Ana Trujillo Emparedados y helados \", \"Ana Trujillo \", \"Mexico\\\\n\"]]', '5': '[\"Orders\", [\"10313\", \"2016-09-20\\\\n\"]]', '4': '[\"Customers\", [\"NO ORDERS\", \"NO ORDERS\", \"NO ORDERS\"]]'}\n"
     ]
    },
    {
     "ename": "NameError",
     "evalue": "name 'groups' is not defined",
     "output_type": "error",
     "traceback": [
      "\u001b[0;31m---------------------------------------------------------------------------\u001b[0m",
      "\u001b[0;31mNameError\u001b[0m                                 Traceback (most recent call last)",
      "\u001b[0;32m<ipython-input-30-82f15828a897>\u001b[0m in \u001b[0;36m<module>\u001b[0;34m()\u001b[0m\n\u001b[1;32m      4\u001b[0m     \u001b[0mrelation_column_val\u001b[0m \u001b[0;34m=\u001b[0m \u001b[0mkey\u001b[0m\u001b[0;34m\u001b[0m\u001b[0m\n\u001b[1;32m      5\u001b[0m     \u001b[0mrelation_data\u001b[0m \u001b[0;34m=\u001b[0m \u001b[0mvalue\u001b[0m\u001b[0;34m\u001b[0m\u001b[0m\n\u001b[0;32m----> 6\u001b[0;31m     \u001b[0mgroups\u001b[0m\u001b[0;34m[\u001b[0m\u001b[0mrelation_column_val\u001b[0m\u001b[0;34m]\u001b[0m\u001b[0;34m.\u001b[0m\u001b[0mappend\u001b[0m\u001b[0;34m(\u001b[0m\u001b[0mrelation_data\u001b[0m\u001b[0;34m)\u001b[0m\u001b[0;34m\u001b[0m\u001b[0m\n\u001b[0m\u001b[1;32m      7\u001b[0m \u001b[0;34m\u001b[0m\u001b[0m\n\u001b[1;32m      8\u001b[0m \u001b[0;34m\u001b[0m\u001b[0m\n",
      "\u001b[0;31mNameError\u001b[0m: name 'groups' is not defined"
     ]
    }
   ],
   "source": [
    "data = mapper()\n",
    "print data\n",
    "for key, value in data.iteritems():\n",
    "    relation_column_val = key\n",
    "    relation_data = value\n",
    "    groups[relation_column_val].append(relation_data)\n",
    "\n",
    "\n",
    "for k in groups:\n",
    "    reducer(k, groups[k])"
   ]
  }
 ],
 "metadata": {
  "kernelspec": {
   "display_name": "Python 2",
   "language": "python",
   "name": "python2"
  },
  "language_info": {
   "codemirror_mode": {
    "name": "ipython",
    "version": 2
   },
   "file_extension": ".py",
   "mimetype": "text/x-python",
   "name": "python",
   "nbconvert_exporter": "python",
   "pygments_lexer": "ipython2",
   "version": "2.7.12"
  }
 },
 "nbformat": 4,
 "nbformat_minor": 2
}
