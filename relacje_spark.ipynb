{
 "cells": [
  {
   "cell_type": "code",
   "execution_count": 2,
   "metadata": {
    "collapsed": true
   },
   "outputs": [],
   "source": [
    "import sys"
   ]
  },
  {
   "cell_type": "code",
   "execution_count": 3,
   "metadata": {
    "collapsed": true
   },
   "outputs": [],
   "source": [
    "import operator"
   ]
  },
  {
   "cell_type": "code",
   "execution_count": 11,
   "metadata": {},
   "outputs": [],
   "source": [
    "def mapper():\n",
    "    data = []\n",
    "    datafile = \"/home/lukassz/PycharmProjects/HadoopProjects/Algebra/difference/relations.txt\"\n",
    "    with open(datafile) as f:\n",
    "        for line in f:\n",
    "            l = line.strip('\\n').split('\\t')\n",
    "            if len(l) == 2:\n",
    "                data.append(str(l[1]) + \" \" + str(l[0]))\n",
    "    return data"
   ]
  },
  {
   "cell_type": "code",
   "execution_count": 31,
   "metadata": {},
   "outputs": [],
   "source": [
    "def reducer(data):\n",
    "    result = {}\n",
    "    key = 0\n",
    "    for val in data:\n",
    "        if key != int(val[0]):\n",
    "            key = int(val[0])\n",
    "            v = []\n",
    "            v.append(val[2])\n",
    "            result[key] = v\n",
    "        else:\n",
    "            v.append(val[2])\n",
    "            result[key] = v\n",
    "    print \"Wynik sumy:\"\n",
    "    for res in result:\n",
    "        print res\n",
    "        \n",
    "        \n",
    "    print \"Iloczyn\"\n",
    "    print result\n",
    "    for val in result:\n",
    "        if len(result[val]) == 2:\n",
    "            print val\n",
    "            \n",
    "            \n",
    "    print \"Roznica\"\n",
    "    \n",
    "    for val in result:\n",
    "        if len(result[val]) != 2:\n",
    "            v = result[val]\n",
    "            if v[0] == \"A\":\n",
    "                print(val)"
   ]
  },
  {
   "cell_type": "code",
   "execution_count": null,
   "metadata": {
    "collapsed": true
   },
   "outputs": [],
   "source": []
  },
  {
   "cell_type": "code",
   "execution_count": 32,
   "metadata": {},
   "outputs": [
    {
     "name": "stdout",
     "output_type": "stream",
     "text": [
      "Wynik sumy:\n",
      "1\n",
      "2\n",
      "3\n",
      "4\n",
      "5\n",
      "6\n",
      "Iloczyn\n",
      "{1: ['A'], 2: ['A', 'B'], 3: ['A', 'B'], 4: ['A'], 5: ['B'], 6: ['B']}\n",
      "2\n",
      "3\n",
      "Roznica\n",
      "1\n",
      "4\n"
     ]
    }
   ],
   "source": [
    "data = mapper()\n",
    "data.sort()\n",
    "reducer(data)"
   ]
  },
  {
   "cell_type": "code",
   "execution_count": null,
   "metadata": {
    "collapsed": true
   },
   "outputs": [],
   "source": []
  }
 ],
 "metadata": {
  "kernelspec": {
   "display_name": "Python 2",
   "language": "python",
   "name": "python2"
  },
  "language_info": {
   "codemirror_mode": {
    "name": "ipython",
    "version": 2
   },
   "file_extension": ".py",
   "mimetype": "text/x-python",
   "name": "python",
   "nbconvert_exporter": "python",
   "pygments_lexer": "ipython2",
   "version": "2.7.12"
  }
 },
 "nbformat": 4,
 "nbformat_minor": 2
}
